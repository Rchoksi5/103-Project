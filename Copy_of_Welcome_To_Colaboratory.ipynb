{
  "nbformat": 4,
  "nbformat_minor": 0,
  "metadata": {
    "colab": {
      "name": "Copy of Welcome To Colaboratory",
      "provenance": [],
      "collapsed_sections": [],
      "include_colab_link": true
    },
    "kernelspec": {
      "display_name": "Python 3",
      "name": "python3"
    }
  },
  "cells": [
    {
      "cell_type": "markdown",
      "metadata": {
        "id": "view-in-github",
        "colab_type": "text"
      },
      "source": [
        "<a href=\"https://colab.research.google.com/github/Rchoksi5/103-Project/blob/main/Copy_of_Welcome_To_Colaboratory.ipynb\" target=\"_parent\"><img src=\"https://colab.research.google.com/assets/colab-badge.svg\" alt=\"Open In Colab\"/></a>"
      ]
    },
    {
      "cell_type": "code",
      "metadata": {
        "id": "DuQr6pmNYuGy"
      },
      "source": [
        "from google.colab import drive"
      ],
      "execution_count": null,
      "outputs": []
    },
    {
      "cell_type": "code",
      "metadata": {
        "id": "_KB_WI7ZY6b9",
        "colab": {
          "base_uri": "https://localhost:8080/"
        },
        "outputId": "4319f5e6-6f6a-499f-8065-28e3ad87e977"
      },
      "source": [
        "drive.mount(\"/content/gdrive\")"
      ],
      "execution_count": null,
      "outputs": [
        {
          "output_type": "stream",
          "name": "stdout",
          "text": [
            "Mounted at /content/gdrive\n"
          ]
        }
      ]
    },
    {
      "cell_type": "code",
      "metadata": {
        "id": "XXMS_iaDY6gE"
      },
      "source": [
        "import pandas as pd\n",
        "import numpy as np\n",
        "import matplotlib.pyplot as plt\n",
        "%matplotlib inline"
      ],
      "execution_count": null,
      "outputs": []
    },
    {
      "cell_type": "code",
      "metadata": {
        "id": "R-6r6Ns5Y6ip"
      },
      "source": [
        "US = pd.read_csv(\"/content/gdrive/MyDrive/US.csv\")"
      ],
      "execution_count": null,
      "outputs": []
    },
    {
      "cell_type": "code",
      "metadata": {
        "id": "G_xdBwmjZZvc"
      },
      "source": [
        "from google.colab import drive\n",
        "drive.mount('/content/drive')"
      ],
      "execution_count": null,
      "outputs": []
    },
    {
      "cell_type": "code",
      "metadata": {
        "id": "QqsRTgCtY6lJ",
        "colab": {
          "base_uri": "https://localhost:8080/",
          "height": 1000
        },
        "outputId": "4c44a372-06dc-49c9-f25a-630757b0d524"
      },
      "source": [
        "US.head()"
      ],
      "execution_count": null,
      "outputs": [
        {
          "output_type": "execute_result",
          "data": {
            "text/html": [
              "<div>\n",
              "<style scoped>\n",
              "    .dataframe tbody tr th:only-of-type {\n",
              "        vertical-align: middle;\n",
              "    }\n",
              "\n",
              "    .dataframe tbody tr th {\n",
              "        vertical-align: top;\n",
              "    }\n",
              "\n",
              "    .dataframe thead th {\n",
              "        text-align: right;\n",
              "    }\n",
              "</style>\n",
              "<table border=\"1\" class=\"dataframe\">\n",
              "  <thead>\n",
              "    <tr style=\"text-align: right;\">\n",
              "      <th></th>\n",
              "      <th>{\"nbformat\":4</th>\n",
              "      <th>nbformat_minor:0</th>\n",
              "      <th>metadata:{\"colab\":{\"name\":\"Untitled0.ipynb\"</th>\n",
              "      <th>provenance:[]</th>\n",
              "      <th>authorship_tag:\"ABX9TyNl6UfinkzypuULBeqhnXif\"}</th>\n",
              "      <th>kernelspec:{\"name\":\"python3\"</th>\n",
              "      <th>display_name:\"Python 3\"}</th>\n",
              "      <th>language_info:{\"name\":\"python\"}}</th>\n",
              "      <th>cells:[{\"cell_type\":\"markdown\"</th>\n",
              "      <th>metadata:{\"id\":\"lQAAxY40L6SK\"}</th>\n",
              "      <th>source:[\"Data Combining\"]}</th>\n",
              "      <th>{\"cell_type\":\"code\"</th>\n",
              "      <th>metadata:{\"id\":\"ZmAkIWQJZvC1\"}</th>\n",
              "      <th>source:[\"!pip install --upgrade gspread\"]</th>\n",
              "      <th>execution_count:null</th>\n",
              "      <th>outputs:[]}</th>\n",
              "      <th>{\"cell_type\":\"code\".1</th>\n",
              "      <th>metadata:{\"id\":\"_pR_JxDYaROm\"}</th>\n",
              "      <th>source:[\"from google.colab import auth\\n\"</th>\n",
              "      <th>auth.authenticate_user()\\n</th>\n",
              "      <th>\\n</th>\n",
              "      <th>import gspread\\n</th>\n",
              "      <th>from oauth2client.client import GoogleCredentials\\n</th>\n",
              "      <th>\\n.1</th>\n",
              "      <th>gc = gspread.authorize(GoogleCredentials.get_application_default())\\n</th>\n",
              "      <th>\\n]</th>\n",
              "      <th>execution_count:null.1</th>\n",
              "      <th>outputs:[]}.1</th>\n",
              "      <th>{\"cell_type\":\"code\".2</th>\n",
              "      <th>metadata:{\"id\":\"ch2exGDPeOTY\"}</th>\n",
              "      <th>source:[\"import pandas as pd\"]</th>\n",
              "      <th>execution_count:null.2</th>\n",
              "      <th>outputs:[]}.2</th>\n",
              "      <th>{\"cell_type\":\"code\".3</th>\n",
              "      <th>metadata:{\"id\":\"thwODmkyeVN7\"}</th>\n",
              "      <th>source:[\"wb = gc.open_by_url('https://docs.google.com/spreadsheets/d/1CE2Uo5plfUzvK62o4Y5GdrsWu6bag0UmNiKBNfkSNCM/edit#gid=1565756258')\"]</th>\n",
              "      <th>execution_count:null.3</th>\n",
              "      <th>outputs:[]}.3</th>\n",
              "      <th>{\"cell_type\":\"code\".4</th>\n",
              "      <th>metadata:{\"id\":\"G3US452xqP4s\"}</th>\n",
              "      <th>...</th>\n",
              "      <th>name:\\\"stdout\\\".1</th>\n",
              "      <th>text:[\\\"Mounted at /content/drive\\\\n\\\"]}]}.1</th>\n",
              "      <th>{\\\"cell_type\\\":\\\"code\\\".11.1</th>\n",
              "      <th>...]\\n\".1</th>\n",
              "      <th>Index: []\\n.1</th>\n",
              "      <th>\\n.7</th>\n",
              "      <th>[0 rows x 182 columns]]}.1</th>\n",
              "      <th>metadata:{}.5</th>\n",
              "      <th>execution_count:95}]}</th>\n",
              "      <th>{\"cell_type\":\"code\".25</th>\n",
              "      <th>metadata:{\"colab\":{\"base_uri\":\"https://localhost:8080/\".3</th>\n",
              "      <th>height:594}</th>\n",
              "      <th>id:\"ZS2KN-lwI_KM\"</th>\n",
              "      <th>executionInfo:{\"status\":\"error\".1</th>\n",
              "      <th>timestamp:1638333695673</th>\n",
              "      <th>user_tz:300.12</th>\n",
              "      <th>elapsed:305.2</th>\n",
              "      <th>user:{\"displayName\":\"riya choksi\".12</th>\n",
              "      <th>photoUrl:\"https://lh3.googleusercontent.com/a/default-user=s64\".12</th>\n",
              "      <th>userId:\"16703114705461443241\"}}.9</th>\n",
              "      <th>outputId:\"b717b934-ed9d-41f3-b8fb-4f5cd1e7450d\"}</th>\n",
              "      <th>source:[\"sns.countplot(df['people_vaccinated'])\"]</th>\n",
              "      <th>execution_count:124</th>\n",
              "      <th>outputs:[{\"output_type\":\"error\".1</th>\n",
              "      <th>ename:\"KeyError\".1</th>\n",
              "      <th>evalue:\"ignored\".1</th>\n",
              "      <th>traceback:[\"\\u001b[0;31m---------------------------------------------------------------------------\\u001b[0m\".1</th>\n",
              "      <th>\\u001b[0;31mKeyError\\u001b[0m                                  Traceback (most recent call last).1</th>\n",
              "      <th>\\u001b[0;32m/usr/local/lib/python3.7/dist-packages/pandas/core/indexes/base.py\\u001b[0m in \\u001b[0;36mget_loc\\u001b[0;34m(self, key, method, tolerance)\\u001b[0m\\n\\u001b[1;32m   2897\\u001b[0m             \\u001b[0;32mtry\\u001b[0m\\u001b[0;34m:\\u001b[0m\\u001b[0;34m\\u001b[0m\\u001b[0;34m\\u001b[0m\\u001b[0m\\n\\u001b[0;32m-&gt; 2898\\u001b[0;31m                 \\u001b[0;32mreturn\\u001b[0m \\u001b[0mself\\u001b[0m\\u001b[0;34m.\\u001b[0m\\u001b[0m_engine\\u001b[0m\\u001b[0;34m.\\u001b[0m\\u001b[0mget_loc\\u001b[0m\\u001b[0;34m(\\u001b[0m\\u001b[0mcasted_key\\u001b[0m\\u001b[0;34m)\\u001b[0m\\u001b[0;34m\\u001b[0m\\u001b[0;34m\\u001b[0m\\u001b[0m\\n\\u001b[0m\\u001b[1;32m   2899\\u001b[0m             \\u001b[0;32mexcept\\u001b[0m \\u001b[0mKeyError\\u001b[0m \\u001b[0;32mas\\u001b[0m \\u001b[0merr\\u001b[0m\\u001b[0;34m:\\u001b[0m\\u001b[0;34m\\u001b[0m\\u001b[0;34m\\u001b[0m\\u001b[0m\\n</th>\n",
              "      <th>\\u001b[0;32mpandas/_libs/index.pyx\\u001b[0m in \\u001b[0;36mpandas._libs.index.IndexEngine.get_loc\\u001b[0;34m()\\u001b[0m\\n</th>\n",
              "      <th>\\u001b[0;32mpandas/_libs/index.pyx\\u001b[0m in \\u001b[0;36mpandas._libs.index.IndexEngine.get_loc\\u001b[0;34m()\\u001b[0m\\n.1</th>\n",
              "      <th>\\u001b[0;32mpandas/_libs/hashtable_class_helper.pxi\\u001b[0m in \\u001b[0;36mpandas._libs.hashtable.PyObjectHashTable.get_item\\u001b[0;34m()\\u001b[0m\\n</th>\n",
              "      <th>\\u001b[0;32mpandas/_libs/hashtable_class_helper.pxi\\u001b[0m in \\u001b[0;36mpandas._libs.hashtable.PyObjectHashTable.get_item\\u001b[0;34m()\\u001b[0m\\n.1</th>\n",
              "      <th>\\u001b[0;31mKeyError\\u001b[0m: 'people_vaccinated'</th>\n",
              "      <th>\\nThe above exception was the direct cause of the following exception:\\n</th>\n",
              "      <th>\\u001b[0;31mKeyError\\u001b[0m                                  Traceback (most recent call last).2</th>\n",
              "      <th>\\u001b[0;32m&lt;ipython-input-124-c066dbd3de58&gt;\\u001b[0m in \\u001b[0;36m&lt;module&gt;\\u001b[0;34m()\\u001b[0m\\n\\u001b[0;32m----&gt; 1\\u001b[0;31m \\u001b[0msns\\u001b[0m\\u001b[0;34m.\\u001b[0m\\u001b[0mcountplot\\u001b[0m\\u001b[0;34m(\\u001b[0m\\u001b[0mdf\\u001b[0m\\u001b[0;34m[\\u001b[0m\\u001b[0;34m'people_vaccinated'\\u001b[0m\\u001b[0;34m]\\u001b[0m\\u001b[0;34m)\\u001b[0m\\u001b[0;34m\\u001b[0m\\u001b[0;34m\\u001b[0m\\u001b[0m\\n\\u001b[0m</th>\n",
              "      <th>\\u001b[0;32m/usr/local/lib/python3.7/dist-packages/pandas/core/frame.py\\u001b[0m in \\u001b[0;36m__getitem__\\u001b[0;34m(self, key)\\u001b[0m\\n\\u001b[1;32m   2904\\u001b[0m             \\u001b[0;32mif\\u001b[0m \\u001b[0mself\\u001b[0m\\u001b[0;34m.\\u001b[0m\\u001b[0mcolumns\\u001b[0m\\u001b[0;34m.\\u001b[0m\\u001b[0mnlevels\\u001b[0m \\u001b[0;34m&gt;\\u001b[0m \\u001b[0;36m1\\u001b[0m\\u001b[0;34m:\\u001b[0m\\u001b[0;34m\\u001b[0m\\u001b[0;34m\\u001b[0m\\u001b[0m\\n\\u001b[1;32m   2905\\u001b[0m                 \\u001b[0;32mreturn\\u001b[0m \\u001b[0mself\\u001b[0m\\u001b[0;34m.\\u001b[0m\\u001b[0m_getitem_multilevel\\u001b[0m\\u001b[0;34m(\\u001b[0m\\u001b[0mkey\\u001b[0m\\u001b[0;34m)\\u001b[0m\\u001b[0;34m\\u001b[0m\\u001b[0;34m\\u001b[0m\\u001b[0m\\n\\u001b[0;32m-&gt; 2906\\u001b[0;31m             \\u001b[0mindexer\\u001b[0m \\u001b[0;34m=\\u001b[0m \\u001b[0mself\\u001b[0m\\u001b[0;34m.\\u001b[0m\\u001b[0mcolumns\\u001b[0m\\u001b[0;34m.\\u001b[0m\\u001b[0mget_loc\\u001b[0m\\u001b[0;34m(\\u001b[0m\\u001b[0mkey\\u001b[0m\\u001b[0;34m)\\u001b[0m\\u001b[0;34m\\u001b[0m\\u001b[0;34m\\u001b[0m\\u001b[0m\\n\\u001b[0m\\u001b[1;32m   2907\\u001b[0m             \\u001b[0;32mif\\u001b[0m \\u001b[0mis_integer\\u001b[0m\\u001b[0;34m(\\u001b[0m\\u001b[0mindexer\\u001b[0m\\u001b[0;34m)\\u001b[0m\\u001b[0;34m:\\u001b[0m\\u001b[0;34m\\u001b[0m\\u001b[0;34m\\u001b[0m\\u001b[0m\\n\\u001b[1;32m   2908\\u001b[0m                 \\u001b[0mindexer\\u001b[0m \\u001b[0;34m=\\u001b[0m \\u001b[0;34m[\\u001b[0m\\u001b[0mindexer\\u001b[0m\\u001b[0;34m]\\u001b[0m\\u001b[0;34m\\u001b[0m\\u001b[0;34m\\u001b[0m\\u001b[0m\\n</th>\n",
              "      <th>\\u001b[0;32m/usr/local/lib/python3.7/dist-packages/pandas/core/indexes/base.py\\u001b[0m in \\u001b[0;36mget_loc\\u001b[0;34m(self, key, method, tolerance)\\u001b[0m\\n\\u001b[1;32m   2898\\u001b[0m                 \\u001b[0;32mreturn\\u001b[0m \\u001b[0mself\\u001b[0m\\u001b[0;34m.\\u001b[0m\\u001b[0m_engine\\u001b[0m\\u001b[0;34m.\\u001b[0m\\u001b[0mget_loc\\u001b[0m\\u001b[0;34m(\\u001b[0m\\u001b[0mcasted_key\\u001b[0m\\u001b[0;34m)\\u001b[0m\\u001b[0;34m\\u001b[0m\\u001b[0;34m\\u001b[0m\\u001b[0m\\n\\u001b[1;32m   2899\\u001b[0m             \\u001b[0;32mexcept\\u001b[0m \\u001b[0mKeyError\\u001b[0m \\u001b[0;32mas\\u001b[0m \\u001b[0merr\\u001b[0m\\u001b[0;34m:\\u001b[0m\\u001b[0;34m\\u001b[0m\\u001b[0;34m\\u001b[0m\\u001b[0m\\n\\u001b[0;32m-&gt; 2900\\u001b[0;31m                 \\u001b[0;32mraise\\u001b[0m \\u001b[0mKeyError\\u001b[0m\\u001b[0;34m(\\u001b[0m\\u001b[0mkey\\u001b[0m\\u001b[0;34m)\\u001b[0m \\u001b[0;32mfrom\\u001b[0m \\u001b[0merr\\u001b[0m\\u001b[0;34m\\u001b[0m\\u001b[0;34m\\u001b[0m\\u001b[0m\\n\\u001b[0m\\u001b[1;32m   2901\\u001b[0m \\u001b[0;34m\\u001b[0m\\u001b[0m\\n\\u001b[1;32m   2902\\u001b[0m         \\u001b[0;32mif\\u001b[0m \\u001b[0mtolerance\\u001b[0m \\u001b[0;32mis\\u001b[0m \\u001b[0;32mnot\\u001b[0m \\u001b[0;32mNone\\u001b[0m\\u001b[0;34m:\\u001b[0m\\u001b[0;34m\\u001b[0m\\u001b[0;34m\\u001b[0m\\u001b[0m\\n</th>\n",
              "      <th>\\u001b[0;31mKeyError\\u001b[0m: 'people_vaccinated']}]}]}</th>\n",
              "    </tr>\n",
              "  </thead>\n",
              "  <tbody>\n",
              "  </tbody>\n",
              "</table>\n",
              "<p>0 rows × 1533 columns</p>\n",
              "</div>"
            ],
            "text/plain": [
              "Empty DataFrame\n",
              "Columns: [{\"nbformat\":4, nbformat_minor:0, metadata:{\"colab\":{\"name\":\"Untitled0.ipynb\", provenance:[], authorship_tag:\"ABX9TyNl6UfinkzypuULBeqhnXif\"}, kernelspec:{\"name\":\"python3\", display_name:\"Python 3\"}, language_info:{\"name\":\"python\"}}, cells:[{\"cell_type\":\"markdown\", metadata:{\"id\":\"lQAAxY40L6SK\"}, source:[\"Data Combining\"]}, {\"cell_type\":\"code\", metadata:{\"id\":\"ZmAkIWQJZvC1\"}, source:[\"!pip install --upgrade gspread\"], execution_count:null, outputs:[]}, {\"cell_type\":\"code\".1, metadata:{\"id\":\"_pR_JxDYaROm\"}, source:[\"from google.colab import auth\\n\", auth.authenticate_user()\\n, \\n, import gspread\\n, from oauth2client.client import GoogleCredentials\\n, \\n.1, gc = gspread.authorize(GoogleCredentials.get_application_default())\\n, \\n], execution_count:null.1, outputs:[]}.1, {\"cell_type\":\"code\".2, metadata:{\"id\":\"ch2exGDPeOTY\"}, source:[\"import pandas as pd\"], execution_count:null.2, outputs:[]}.2, {\"cell_type\":\"code\".3, metadata:{\"id\":\"thwODmkyeVN7\"}, source:[\"wb = gc.open_by_url('https://docs.google.com/spreadsheets/d/1CE2Uo5plfUzvK62o4Y5GdrsWu6bag0UmNiKBNfkSNCM/edit#gid=1565756258')\"], execution_count:null.3, outputs:[]}.3, {\"cell_type\":\"code\".4, metadata:{\"id\":\"G3US452xqP4s\"}, source:[\"listOfFrames = []\"], execution_count:null.4, outputs:[]}.4, {\"cell_type\":\"code\".5, metadata:{\"id\":\"aJeTu0ZkfjZu\"}, source:[\"for ws in wb.worksheets():\\n\",   if ws.title != \\Master\\\":\\n\",     rows = ws.get_all_values()\\n,   df = pd.DataFrame.from_records(rows[1:],columns=rows[0])\\n,   listOfFrames.append(df)], execution_count:null.5, outputs:[]}.5, {\"cell_type\":\"code\".6, metadata:{\"id\":\"J-dIUYpVgxVu\"}, source:[\"ws1 = wb.worksheets()[0]\"], execution_count:null.6, outputs:[]}.6, {\"cell_type\":\"markdown\", metadata:{\"id\":\"n-ZAMdisMDiU\"}, source:[\"Data Cleaning\"]}, {\"cell_type\":\"code\".7, metadata:{\"id\":\"BwroZdF9MHis\"}, source:[\"from google.colab import drive\"], execution_count:null.7, outputs:[]}.7, {\"cell_type\":\"code\".8, metadata:{\"colab\":{\"base_uri\":\"https://localhost:8080/\"}, id:\"GexAKpJUMXm9\", executionInfo:{\"status\":\"ok\", timestamp:1638317512367, user_tz:300, elapsed:26280, user:{\"displayName\":\"riya choksi\", photoUrl:\"https://lh3.googleusercontent.com/a/default-user=s64\", userId:\"16703114705461443241\"}}, outputId:\"c51b585e-e831-46e5-ba40-730808a1a139\"}, source:[\"from google.colab import drive\\n\", drive.mount('/content/drive')], execution_count:null.8, outputs:[{\"output_type\":\"stream\", name:\"stdout\", text:[\"Mounted at /content/drive\\n\"]}]}, {\"cell_type\":\"code\".9, metadata:{\"id\":\"7Ps9-FemWVWf\"}, source:[\"import pandas as pd\\n\", import numpy as np\\n, import matplotlib.pyplot as plt\\n, %matplotlib inline], execution_count:null.9, outputs:[]}.8, {\"cell_type\":\"code\".10, metadata:{\"id\":\"DY3VEY75CfSY\", executionInfo:{\"status\":\"ok\".1, timestamp:1638329353220, user_tz:300.1, elapsed:446, user:{\"displayName\":\"riya choksi\".1, photoUrl:\"https://lh3.googleusercontent.com/a/default-user=s64\".1, userId:\"16703114705461443241\"}}}, source:[\"masterSheet = ('/content/drive/MyDrive/Colab Notebooks/Untitled0.ipynb')\"], ...]\n",
              "Index: []\n",
              "\n",
              "[0 rows x 1533 columns]"
            ]
          },
          "metadata": {},
          "execution_count": 6
        }
      ]
    },
    {
      "cell_type": "code",
      "metadata": {
        "id": "scI1_bcZY6nv",
        "colab": {
          "base_uri": "https://localhost:8080/"
        },
        "outputId": "8dee7f45-4ee0-4ab8-a0ae-fcd4bb2dd646"
      },
      "source": [
        "US.shape"
      ],
      "execution_count": null,
      "outputs": [
        {
          "output_type": "execute_result",
          "data": {
            "text/plain": [
              "(0, 1533)"
            ]
          },
          "metadata": {},
          "execution_count": 7
        }
      ]
    },
    {
      "cell_type": "code",
      "metadata": {
        "id": "DQesM91UY6qd",
        "colab": {
          "base_uri": "https://localhost:8080/"
        },
        "outputId": "00907fab-5a4a-4923-956d-bad0f8d7cbe8"
      },
      "source": [
        "US.dtypes"
      ],
      "execution_count": null,
      "outputs": [
        {
          "output_type": "execute_result",
          "data": {
            "text/plain": [
              "{\"nbformat\":4                                                                                                                                                                                                                                                                                                                                                                                                                                                                                                                                                                                                                                                                                                                                                                                                                                                                                                                                                                                                                                                                                                                                                                                                                                                                                                                                                                                                                                                                                                                                                       object\n",
              "nbformat_minor:0                                                                                                                                                                                                                                                                                                                                                                                                                                                                                                                                                                                                                                                                                                                                                                                                                                                                                                                                                                                                                                                                                                                                                                                                                                                                                                                                                                                                                                                                                                                                                    object\n",
              "metadata:{\"colab\":{\"name\":\"Untitled0.ipynb\"                                                                                                                                                                                                                                                                                                                                                                                                                                                                                                                                                                                                                                                                                                                                                                                                                                                                                                                                                                                                                                                                                                                                                                                                                                                                                                                                                                                                                                                                                                                         object\n",
              "provenance:[]                                                                                                                                                                                                                                                                                                                                                                                                                                                                                                                                                                                                                                                                                                                                                                                                                                                                                                                                                                                                                                                                                                                                                                                                                                                                                                                                                                                                                                                                                                                                                       object\n",
              "authorship_tag:\"ABX9TyNl6UfinkzypuULBeqhnXif\"}                                                                                                                                                                                                                                                                                                                                                                                                                                                                                                                                                                                                                                                                                                                                                                                                                                                                                                                                                                                                                                                                                                                                                                                                                                                                                                                                                                                                                                                                                                                      object\n",
              "                                                                                                                                                                                                                                                                                                                                                                                                                                                                                                                                                                                                                                                                                                                                                                                                                                                                                                                                                                                                                                                                                                                                                                                                                                                                                                                                                                                                                                                                                                                                                                     ...  \n",
              "\\u001b[0;31mKeyError\\u001b[0m                                  Traceback (most recent call last).2                                                                                                                                                                                                                                                                                                                                                                                                                                                                                                                                                                                                                                                                                                                                                                                                                                                                                                                                                                                                                                                                                                                                                                                                                                                                                                                                                                                                                                                                  object\n",
              "\\u001b[0;32m<ipython-input-124-c066dbd3de58>\\u001b[0m in \\u001b[0;36m<module>\\u001b[0;34m()\\u001b[0m\\n\\u001b[0;32m----> 1\\u001b[0;31m \\u001b[0msns\\u001b[0m\\u001b[0;34m.\\u001b[0m\\u001b[0mcountplot\\u001b[0m\\u001b[0;34m(\\u001b[0m\\u001b[0mdf\\u001b[0m\\u001b[0;34m[\\u001b[0m\\u001b[0;34m'people_vaccinated'\\u001b[0m\\u001b[0;34m]\\u001b[0m\\u001b[0;34m)\\u001b[0m\\u001b[0;34m\\u001b[0m\\u001b[0;34m\\u001b[0m\\u001b[0m\\n\\u001b[0m                                                                                                                                                                                                                                                                                                                                                                                                                                                                                                                                                                                                                                                                                                                                                                                                                                                                                                                                                                                                                                                                                                                                      object\n",
              "\\u001b[0;32m/usr/local/lib/python3.7/dist-packages/pandas/core/frame.py\\u001b[0m in \\u001b[0;36m__getitem__\\u001b[0;34m(self, key)\\u001b[0m\\n\\u001b[1;32m   2904\\u001b[0m             \\u001b[0;32mif\\u001b[0m \\u001b[0mself\\u001b[0m\\u001b[0;34m.\\u001b[0m\\u001b[0mcolumns\\u001b[0m\\u001b[0;34m.\\u001b[0m\\u001b[0mnlevels\\u001b[0m \\u001b[0;34m>\\u001b[0m \\u001b[0;36m1\\u001b[0m\\u001b[0;34m:\\u001b[0m\\u001b[0;34m\\u001b[0m\\u001b[0;34m\\u001b[0m\\u001b[0m\\n\\u001b[1;32m   2905\\u001b[0m                 \\u001b[0;32mreturn\\u001b[0m \\u001b[0mself\\u001b[0m\\u001b[0;34m.\\u001b[0m\\u001b[0m_getitem_multilevel\\u001b[0m\\u001b[0;34m(\\u001b[0m\\u001b[0mkey\\u001b[0m\\u001b[0;34m)\\u001b[0m\\u001b[0;34m\\u001b[0m\\u001b[0;34m\\u001b[0m\\u001b[0m\\n\\u001b[0;32m-> 2906\\u001b[0;31m             \\u001b[0mindexer\\u001b[0m \\u001b[0;34m=\\u001b[0m \\u001b[0mself\\u001b[0m\\u001b[0;34m.\\u001b[0m\\u001b[0mcolumns\\u001b[0m\\u001b[0;34m.\\u001b[0m\\u001b[0mget_loc\\u001b[0m\\u001b[0;34m(\\u001b[0m\\u001b[0mkey\\u001b[0m\\u001b[0;34m)\\u001b[0m\\u001b[0;34m\\u001b[0m\\u001b[0;34m\\u001b[0m\\u001b[0m\\n\\u001b[0m\\u001b[1;32m   2907\\u001b[0m             \\u001b[0;32mif\\u001b[0m \\u001b[0mis_integer\\u001b[0m\\u001b[0;34m(\\u001b[0m\\u001b[0mindexer\\u001b[0m\\u001b[0;34m)\\u001b[0m\\u001b[0;34m:\\u001b[0m\\u001b[0;34m\\u001b[0m\\u001b[0;34m\\u001b[0m\\u001b[0m\\n\\u001b[1;32m   2908\\u001b[0m                 \\u001b[0mindexer\\u001b[0m \\u001b[0;34m=\\u001b[0m \\u001b[0;34m[\\u001b[0m\\u001b[0mindexer\\u001b[0m\\u001b[0;34m]\\u001b[0m\\u001b[0;34m\\u001b[0m\\u001b[0;34m\\u001b[0m\\u001b[0m\\n    object\n",
              "\\u001b[0;32m/usr/local/lib/python3.7/dist-packages/pandas/core/indexes/base.py\\u001b[0m in \\u001b[0;36mget_loc\\u001b[0;34m(self, key, method, tolerance)\\u001b[0m\\n\\u001b[1;32m   2898\\u001b[0m                 \\u001b[0;32mreturn\\u001b[0m \\u001b[0mself\\u001b[0m\\u001b[0;34m.\\u001b[0m\\u001b[0m_engine\\u001b[0m\\u001b[0;34m.\\u001b[0m\\u001b[0mget_loc\\u001b[0m\\u001b[0;34m(\\u001b[0m\\u001b[0mcasted_key\\u001b[0m\\u001b[0;34m)\\u001b[0m\\u001b[0;34m\\u001b[0m\\u001b[0;34m\\u001b[0m\\u001b[0m\\n\\u001b[1;32m   2899\\u001b[0m             \\u001b[0;32mexcept\\u001b[0m \\u001b[0mKeyError\\u001b[0m \\u001b[0;32mas\\u001b[0m \\u001b[0merr\\u001b[0m\\u001b[0;34m:\\u001b[0m\\u001b[0;34m\\u001b[0m\\u001b[0;34m\\u001b[0m\\u001b[0m\\n\\u001b[0;32m-> 2900\\u001b[0;31m                 \\u001b[0;32mraise\\u001b[0m \\u001b[0mKeyError\\u001b[0m\\u001b[0;34m(\\u001b[0m\\u001b[0mkey\\u001b[0m\\u001b[0;34m)\\u001b[0m \\u001b[0;32mfrom\\u001b[0m \\u001b[0merr\\u001b[0m\\u001b[0;34m\\u001b[0m\\u001b[0;34m\\u001b[0m\\u001b[0m\\n\\u001b[0m\\u001b[1;32m   2901\\u001b[0m \\u001b[0;34m\\u001b[0m\\u001b[0m\\n\\u001b[1;32m   2902\\u001b[0m         \\u001b[0;32mif\\u001b[0m \\u001b[0mtolerance\\u001b[0m \\u001b[0;32mis\\u001b[0m \\u001b[0;32mnot\\u001b[0m \\u001b[0;32mNone\\u001b[0m\\u001b[0;34m:\\u001b[0m\\u001b[0;34m\\u001b[0m\\u001b[0;34m\\u001b[0m\\u001b[0m\\n                                                                                                                                                                                                                                                object\n",
              "\\u001b[0;31mKeyError\\u001b[0m: 'people_vaccinated']}]}]}                                                                                                                                                                                                                                                                                                                                                                                                                                                                                                                                                                                                                                                                                                                                                                                                                                                                                                                                                                                                                                                                                                                                                                                                                                                                                                                                                                                                                                                                                                            object\n",
              "Length: 1533, dtype: object"
            ]
          },
          "metadata": {},
          "execution_count": 8
        }
      ]
    },
    {
      "cell_type": "code",
      "metadata": {
        "id": "JGI__f29aIHz"
      },
      "source": [
        "columns_to_remove = ['source_url']\n",
        "US.drop(labels=columns_to_remove, axis=1, inplace=True)"
      ],
      "execution_count": null,
      "outputs": []
    },
    {
      "cell_type": "code",
      "metadata": {
        "id": "j3l40okuaIP3"
      },
      "source": [
        "US[\"total_boosters\"].fillna(\"0\", inplace = True)"
      ],
      "execution_count": null,
      "outputs": []
    },
    {
      "cell_type": "code",
      "metadata": {
        "id": "hxIKcVLFaIRu",
        "colab": {
          "base_uri": "https://localhost:8080/",
          "height": 206
        },
        "outputId": "0d962903-2872-4701-dfac-e9066afafc26"
      },
      "source": [
        "US.head()"
      ],
      "execution_count": null,
      "outputs": [
        {
          "output_type": "execute_result",
          "data": {
            "text/html": [
              "<div>\n",
              "<style scoped>\n",
              "    .dataframe tbody tr th:only-of-type {\n",
              "        vertical-align: middle;\n",
              "    }\n",
              "\n",
              "    .dataframe tbody tr th {\n",
              "        vertical-align: top;\n",
              "    }\n",
              "\n",
              "    .dataframe thead th {\n",
              "        text-align: right;\n",
              "    }\n",
              "</style>\n",
              "<table border=\"1\" class=\"dataframe\">\n",
              "  <thead>\n",
              "    <tr style=\"text-align: right;\">\n",
              "      <th></th>\n",
              "      <th>date</th>\n",
              "      <th>location</th>\n",
              "      <th>total_vaccinations</th>\n",
              "      <th>people_vaccinated</th>\n",
              "      <th>people_fully_vaccinated</th>\n",
              "      <th>total_boosters</th>\n",
              "      <th>vaccine</th>\n",
              "    </tr>\n",
              "  </thead>\n",
              "  <tbody>\n",
              "    <tr>\n",
              "      <th>0</th>\n",
              "      <td>2020-12-13</td>\n",
              "      <td>United States</td>\n",
              "      <td>20013</td>\n",
              "      <td>17073</td>\n",
              "      <td>3579</td>\n",
              "      <td>0</td>\n",
              "      <td>Pfizer/BioNTech</td>\n",
              "    </tr>\n",
              "    <tr>\n",
              "      <th>1</th>\n",
              "      <td>2020-12-14</td>\n",
              "      <td>United States</td>\n",
              "      <td>24300</td>\n",
              "      <td>21231</td>\n",
              "      <td>3668</td>\n",
              "      <td>0</td>\n",
              "      <td>Pfizer/BioNTech</td>\n",
              "    </tr>\n",
              "    <tr>\n",
              "      <th>2</th>\n",
              "      <td>2020-12-15</td>\n",
              "      <td>United States</td>\n",
              "      <td>72853</td>\n",
              "      <td>67597</td>\n",
              "      <td>3851</td>\n",
              "      <td>0</td>\n",
              "      <td>Pfizer/BioNTech</td>\n",
              "    </tr>\n",
              "    <tr>\n",
              "      <th>3</th>\n",
              "      <td>2020-12-16</td>\n",
              "      <td>United States</td>\n",
              "      <td>231420</td>\n",
              "      <td>220759</td>\n",
              "      <td>4214</td>\n",
              "      <td>0</td>\n",
              "      <td>Pfizer/BioNTech</td>\n",
              "    </tr>\n",
              "    <tr>\n",
              "      <th>4</th>\n",
              "      <td>2020-12-17</td>\n",
              "      <td>United States</td>\n",
              "      <td>501644</td>\n",
              "      <td>484011</td>\n",
              "      <td>4743</td>\n",
              "      <td>0</td>\n",
              "      <td>Pfizer/BioNTech</td>\n",
              "    </tr>\n",
              "  </tbody>\n",
              "</table>\n",
              "</div>"
            ],
            "text/plain": [
              "         date       location  ...  total_boosters          vaccine\n",
              "0  2020-12-13  United States  ...               0  Pfizer/BioNTech\n",
              "1  2020-12-14  United States  ...               0  Pfizer/BioNTech\n",
              "2  2020-12-15  United States  ...               0  Pfizer/BioNTech\n",
              "3  2020-12-16  United States  ...               0  Pfizer/BioNTech\n",
              "4  2020-12-17  United States  ...               0  Pfizer/BioNTech\n",
              "\n",
              "[5 rows x 7 columns]"
            ]
          },
          "metadata": {},
          "execution_count": 14
        }
      ]
    },
    {
      "cell_type": "code",
      "metadata": {
        "id": "edbWCQgtaIVf",
        "colab": {
          "base_uri": "https://localhost:8080/"
        },
        "outputId": "67c5653c-46c8-4fc4-fd5a-3d199cac0ad4"
      },
      "source": [
        "US.columns"
      ],
      "execution_count": null,
      "outputs": [
        {
          "output_type": "execute_result",
          "data": {
            "text/plain": [
              "Index(['date', 'location', 'total_vaccinations', 'people_vaccinated',\n",
              "       'people_fully_vaccinated', 'total_boosters', 'vaccine'],\n",
              "      dtype='object')"
            ]
          },
          "metadata": {},
          "execution_count": 16
        }
      ]
    },
    {
      "cell_type": "code",
      "metadata": {
        "id": "faWJKFeSaIY3",
        "colab": {
          "base_uri": "https://localhost:8080/"
        },
        "outputId": "df3edf9e-e851-4a16-e4a4-2b9d0ec3d307"
      },
      "source": [
        "US.columns.unique()"
      ],
      "execution_count": null,
      "outputs": [
        {
          "output_type": "execute_result",
          "data": {
            "text/plain": [
              "Index(['date', 'location', 'total_vaccinations', 'people_vaccinated',\n",
              "       'people_fully_vaccinated', 'total_boosters', 'vaccine'],\n",
              "      dtype='object')"
            ]
          },
          "metadata": {},
          "execution_count": 17
        }
      ]
    },
    {
      "cell_type": "code",
      "metadata": {
        "id": "XB2tunABcJE-",
        "colab": {
          "base_uri": "https://localhost:8080/"
        },
        "outputId": "ff6758dd-e3f1-4d26-afdf-8efa6168c9fe"
      },
      "source": [
        "US.vaccine.unique()\n"
      ],
      "execution_count": null,
      "outputs": [
        {
          "output_type": "execute_result",
          "data": {
            "text/plain": [
              "array(['Pfizer/BioNTech', 'Moderna, Pfizer/BioNTech',\n",
              "       'Johnson&Johnson, Moderna, Pfizer/BioNTech'], dtype=object)"
            ]
          },
          "metadata": {},
          "execution_count": 18
        }
      ]
    },
    {
      "cell_type": "code",
      "metadata": {
        "id": "1ObvYX8LcJHU"
      },
      "source": [
        "import seaborn as sns"
      ],
      "execution_count": null,
      "outputs": []
    },
    {
      "cell_type": "code",
      "metadata": {
        "id": "x2E79YMpcJJz",
        "colab": {
          "base_uri": "https://localhost:8080/",
          "height": 354
        },
        "outputId": "9ae59fcf-7f2b-4613-b30a-18d5c16ac380"
      },
      "source": [
        "sns.countplot(US['vaccine'])"
      ],
      "execution_count": null,
      "outputs": [
        {
          "output_type": "stream",
          "name": "stderr",
          "text": [
            "/usr/local/lib/python3.7/dist-packages/seaborn/_decorators.py:43: FutureWarning: Pass the following variable as a keyword arg: x. From version 0.12, the only valid positional argument will be `data`, and passing other arguments without an explicit keyword will result in an error or misinterpretation.\n",
            "  FutureWarning\n"
          ]
        },
        {
          "output_type": "execute_result",
          "data": {
            "text/plain": [
              "<matplotlib.axes._subplots.AxesSubplot at 0x7f768977d510>"
            ]
          },
          "metadata": {},
          "execution_count": 20
        },
        {
          "output_type": "display_data",
          "data": {
            "image/png": "[encoded data removed]",
            "text/plain": [
              "<Figure size 432x288 with 1 Axes>"
            ]
          },
          "metadata": {
            "needs_background": "light"
          }
        }
      ]
    },
    {
      "cell_type": "code",
      "metadata": {
        "id": "IZsi0AUvcJNP",
        "colab": {
          "base_uri": "https://localhost:8080/"
        },
        "outputId": "42bb0b75-06dd-4b38-d746-e85f727a3ca8"
      },
      "source": [
        "numerical_features = [feature for feature in US.columns if US[feature].dtype != 'O']\n",
        "print('Number of numerical variables: ', len(numerical_features))\n"
      ],
      "execution_count": null,
      "outputs": [
        {
          "output_type": "stream",
          "name": "stdout",
          "text": [
            "Number of numerical variables:  4\n"
          ]
        }
      ]
    },
    {
      "cell_type": "code",
      "metadata": {
        "id": "x8IAaQ3jcqqL",
        "colab": {
          "base_uri": "https://localhost:8080/",
          "height": 206
        },
        "outputId": "9eddf61e-68e3-4b5c-b2fb-0bea2a776817"
      },
      "source": [
        "US[numerical_features].head()"
      ],
      "execution_count": null,
      "outputs": [
        {
          "output_type": "execute_result",
          "data": {
            "text/html": [
              "<div>\n",
              "<style scoped>\n",
              "    .dataframe tbody tr th:only-of-type {\n",
              "        vertical-align: middle;\n",
              "    }\n",
              "\n",
              "    .dataframe tbody tr th {\n",
              "        vertical-align: top;\n",
              "    }\n",
              "\n",
              "    .dataframe thead th {\n",
              "        text-align: right;\n",
              "    }\n",
              "</style>\n",
              "<table border=\"1\" class=\"dataframe\">\n",
              "  <thead>\n",
              "    <tr style=\"text-align: right;\">\n",
              "      <th></th>\n",
              "      <th>total_vaccinations</th>\n",
              "      <th>people_vaccinated</th>\n",
              "      <th>people_fully_vaccinated</th>\n",
              "      <th>total_boosters</th>\n",
              "    </tr>\n",
              "  </thead>\n",
              "  <tbody>\n",
              "    <tr>\n",
              "      <th>0</th>\n",
              "      <td>20013</td>\n",
              "      <td>17073</td>\n",
              "      <td>3579</td>\n",
              "      <td>0</td>\n",
              "    </tr>\n",
              "    <tr>\n",
              "      <th>1</th>\n",
              "      <td>24300</td>\n",
              "      <td>21231</td>\n",
              "      <td>3668</td>\n",
              "      <td>0</td>\n",
              "    </tr>\n",
              "    <tr>\n",
              "      <th>2</th>\n",
              "      <td>72853</td>\n",
              "      <td>67597</td>\n",
              "      <td>3851</td>\n",
              "      <td>0</td>\n",
              "    </tr>\n",
              "    <tr>\n",
              "      <th>3</th>\n",
              "      <td>231420</td>\n",
              "      <td>220759</td>\n",
              "      <td>4214</td>\n",
              "      <td>0</td>\n",
              "    </tr>\n",
              "    <tr>\n",
              "      <th>4</th>\n",
              "      <td>501644</td>\n",
              "      <td>484011</td>\n",
              "      <td>4743</td>\n",
              "      <td>0</td>\n",
              "    </tr>\n",
              "  </tbody>\n",
              "</table>\n",
              "</div>"
            ],
            "text/plain": [
              "   total_vaccinations  ...  total_boosters\n",
              "0               20013  ...               0\n",
              "1               24300  ...               0\n",
              "2               72853  ...               0\n",
              "3              231420  ...               0\n",
              "4              501644  ...               0\n",
              "\n",
              "[5 rows x 4 columns]"
            ]
          },
          "metadata": {},
          "execution_count": 23
        }
      ]
    },
    {
      "cell_type": "code",
      "metadata": {
        "id": "SADRHbazcqso",
        "colab": {
          "base_uri": "https://localhost:8080/",
          "height": 385
        },
        "outputId": "e408afc5-eafd-401c-b28e-0a1c9964591b"
      },
      "source": [
        "US[numerical_features].hist()\n"
      ],
      "execution_count": null,
      "outputs": [
        {
          "output_type": "execute_result",
          "data": {
            "text/plain": [
              "array([[<matplotlib.axes._subplots.AxesSubplot object at 0x7f7688aaffd0>,\n",
              "        <matplotlib.axes._subplots.AxesSubplot object at 0x7f7688ae6750>],\n",
              "       [<matplotlib.axes._subplots.AxesSubplot object at 0x7f7688a9ed50>,\n",
              "        <matplotlib.axes._subplots.AxesSubplot object at 0x7f7688a61390>]],\n",
              "      dtype=object)"
            ]
          },
          "metadata": {},
          "execution_count": 24
        },
        {
          "output_type": "display_data",
          "data": {
            "image/png": "[encoded data removed]",
            "text/plain": [
              "<Figure size 432x288 with 4 Axes>"
            ]
          },
          "metadata": {
            "needs_background": "light"
          }
        }
      ]
    },
    {
      "cell_type": "code",
      "metadata": {
        "id": "SCoZmQxGcqvF",
        "colab": {
          "base_uri": "https://localhost:8080/",
          "height": 330
        },
        "outputId": "e359dbb9-e250-4348-ade2-100cb017193e"
      },
      "source": [
        "US[numerical_features].hist(column = 'total_vaccinations')"
      ],
      "execution_count": null,
      "outputs": [
        {
          "output_type": "execute_result",
          "data": {
            "text/plain": [
              "array([[<matplotlib.axes._subplots.AxesSubplot object at 0x7f7688921250>]],\n",
              "      dtype=object)"
            ]
          },
          "metadata": {},
          "execution_count": 25
        },
        {
          "output_type": "display_data",
          "data": {
            "image/png": "[encoded data removed]",
            "text/plain": [
              "<Figure size 432x288 with 1 Axes>"
            ]
          },
          "metadata": {
            "needs_background": "light"
          }
        }
      ]
    },
    {
      "cell_type": "code",
      "metadata": {
        "id": "7x2kVbbxcqw-",
        "colab": {
          "base_uri": "https://localhost:8080/",
          "height": 330
        },
        "outputId": "30221e6b-8da7-4edc-8aa6-321a14b6fbc3"
      },
      "source": [
        "US[numerical_features].hist(column = 'people_fully_vaccinated')"
      ],
      "execution_count": null,
      "outputs": [
        {
          "output_type": "execute_result",
          "data": {
            "text/plain": [
              "array([[<matplotlib.axes._subplots.AxesSubplot object at 0x7f76888a6c90>]],\n",
              "      dtype=object)"
            ]
          },
          "metadata": {},
          "execution_count": 26
        },
        {
          "output_type": "display_data",
          "data": {
            "image/png": "[encoded data removed]",
            "text/plain": [
              "<Figure size 432x288 with 1 Axes>"
            ]
          },
          "metadata": {
            "needs_background": "light"
          }
        }
      ]
    },
    {
      "cell_type": "code",
      "metadata": {
        "id": "ZOL5Sxvocq0U",
        "colab": {
          "base_uri": "https://localhost:8080/"
        },
        "outputId": "098fec67-dc04-44f0-d29d-dc2836b29adc"
      },
      "source": [
        "categorical_features = [feature for feature in US.columns if US[feature].dtype == 'O']\n",
        "print('Number of numerical variables: ', len(categorical_features))"
      ],
      "execution_count": null,
      "outputs": [
        {
          "output_type": "stream",
          "name": "stdout",
          "text": [
            "Number of numerical variables:  3\n"
          ]
        }
      ]
    },
    {
      "cell_type": "code",
      "metadata": {
        "id": "UQj4BHojdVW8",
        "colab": {
          "base_uri": "https://localhost:8080/",
          "height": 206
        },
        "outputId": "8aad0776-c44e-4d66-8d32-86ae8d0d3f72"
      },
      "source": [
        "US[categorical_features].head()"
      ],
      "execution_count": null,
      "outputs": [
        {
          "output_type": "execute_result",
          "data": {
            "text/html": [
              "<div>\n",
              "<style scoped>\n",
              "    .dataframe tbody tr th:only-of-type {\n",
              "        vertical-align: middle;\n",
              "    }\n",
              "\n",
              "    .dataframe tbody tr th {\n",
              "        vertical-align: top;\n",
              "    }\n",
              "\n",
              "    .dataframe thead th {\n",
              "        text-align: right;\n",
              "    }\n",
              "</style>\n",
              "<table border=\"1\" class=\"dataframe\">\n",
              "  <thead>\n",
              "    <tr style=\"text-align: right;\">\n",
              "      <th></th>\n",
              "      <th>date</th>\n",
              "      <th>location</th>\n",
              "      <th>vaccine</th>\n",
              "    </tr>\n",
              "  </thead>\n",
              "  <tbody>\n",
              "    <tr>\n",
              "      <th>0</th>\n",
              "      <td>2020-12-13</td>\n",
              "      <td>United States</td>\n",
              "      <td>Pfizer/BioNTech</td>\n",
              "    </tr>\n",
              "    <tr>\n",
              "      <th>1</th>\n",
              "      <td>2020-12-14</td>\n",
              "      <td>United States</td>\n",
              "      <td>Pfizer/BioNTech</td>\n",
              "    </tr>\n",
              "    <tr>\n",
              "      <th>2</th>\n",
              "      <td>2020-12-15</td>\n",
              "      <td>United States</td>\n",
              "      <td>Pfizer/BioNTech</td>\n",
              "    </tr>\n",
              "    <tr>\n",
              "      <th>3</th>\n",
              "      <td>2020-12-16</td>\n",
              "      <td>United States</td>\n",
              "      <td>Pfizer/BioNTech</td>\n",
              "    </tr>\n",
              "    <tr>\n",
              "      <th>4</th>\n",
              "      <td>2020-12-17</td>\n",
              "      <td>United States</td>\n",
              "      <td>Pfizer/BioNTech</td>\n",
              "    </tr>\n",
              "  </tbody>\n",
              "</table>\n",
              "</div>"
            ],
            "text/plain": [
              "         date       location          vaccine\n",
              "0  2020-12-13  United States  Pfizer/BioNTech\n",
              "1  2020-12-14  United States  Pfizer/BioNTech\n",
              "2  2020-12-15  United States  Pfizer/BioNTech\n",
              "3  2020-12-16  United States  Pfizer/BioNTech\n",
              "4  2020-12-17  United States  Pfizer/BioNTech"
            ]
          },
          "metadata": {},
          "execution_count": 28
        }
      ]
    },
    {
      "cell_type": "code",
      "metadata": {
        "id": "_L7TdTNZdVYo",
        "colab": {
          "base_uri": "https://localhost:8080/"
        },
        "outputId": "211c9cfb-8b68-41e8-9a71-1569e599ebce"
      },
      "source": [
        "US.dtypes\n"
      ],
      "execution_count": null,
      "outputs": [
        {
          "output_type": "execute_result",
          "data": {
            "text/plain": [
              "date                       object\n",
              "location                   object\n",
              "total_vaccinations          int64\n",
              "people_vaccinated           int64\n",
              "people_fully_vaccinated     int64\n",
              "total_boosters              int64\n",
              "vaccine                    object\n",
              "dtype: object"
            ]
          },
          "metadata": {},
          "execution_count": 29
        }
      ]
    },
    {
      "cell_type": "code",
      "metadata": {
        "id": "W4IhZ3_TdVbH"
      },
      "source": [
        "from datetime import datetime"
      ],
      "execution_count": null,
      "outputs": []
    },
    {
      "cell_type": "code",
      "metadata": {
        "id": "zqTQsTrWdVdJ"
      },
      "source": [
        "US['date'] = US['date'].apply(lambda x: datetime.strptime(x, '%Y-%m-%d'))"
      ],
      "execution_count": null,
      "outputs": []
    },
    {
      "cell_type": "code",
      "metadata": {
        "id": "-mSSfEvAdqpH",
        "colab": {
          "base_uri": "https://localhost:8080/"
        },
        "outputId": "67ca507d-b2b8-4b16-df9f-13eb10fae3b4"
      },
      "source": [
        "US.dtypes"
      ],
      "execution_count": null,
      "outputs": [
        {
          "output_type": "execute_result",
          "data": {
            "text/plain": [
              "date                       datetime64[ns]\n",
              "location                           object\n",
              "total_vaccinations                  int64\n",
              "people_vaccinated                   int64\n",
              "people_fully_vaccinated             int64\n",
              "total_boosters                      int64\n",
              "vaccine                            object\n",
              "dtype: object"
            ]
          },
          "metadata": {},
          "execution_count": 32
        }
      ]
    },
    {
      "cell_type": "code",
      "metadata": {
        "id": "FszQRpdudqrK",
        "colab": {
          "base_uri": "https://localhost:8080/",
          "height": 300
        },
        "outputId": "6f9393dd-7534-48bc-afda-658b2cdfe807"
      },
      "source": [
        "US[numerical_features].describe()"
      ],
      "execution_count": null,
      "outputs": [
        {
          "output_type": "execute_result",
          "data": {
            "text/html": [
              "<div>\n",
              "<style scoped>\n",
              "    .dataframe tbody tr th:only-of-type {\n",
              "        vertical-align: middle;\n",
              "    }\n",
              "\n",
              "    .dataframe tbody tr th {\n",
              "        vertical-align: top;\n",
              "    }\n",
              "\n",
              "    .dataframe thead th {\n",
              "        text-align: right;\n",
              "    }\n",
              "</style>\n",
              "<table border=\"1\" class=\"dataframe\">\n",
              "  <thead>\n",
              "    <tr style=\"text-align: right;\">\n",
              "      <th></th>\n",
              "      <th>total_vaccinations</th>\n",
              "      <th>people_vaccinated</th>\n",
              "      <th>people_fully_vaccinated</th>\n",
              "      <th>total_boosters</th>\n",
              "    </tr>\n",
              "  </thead>\n",
              "  <tbody>\n",
              "    <tr>\n",
              "      <th>count</th>\n",
              "      <td>3.270000e+02</td>\n",
              "      <td>3.270000e+02</td>\n",
              "      <td>3.270000e+02</td>\n",
              "      <td>3.270000e+02</td>\n",
              "    </tr>\n",
              "    <tr>\n",
              "      <th>mean</th>\n",
              "      <td>2.437773e+08</td>\n",
              "      <td>1.373094e+08</td>\n",
              "      <td>1.094081e+08</td>\n",
              "      <td>1.699529e+06</td>\n",
              "    </tr>\n",
              "    <tr>\n",
              "      <th>std</th>\n",
              "      <td>1.435421e+08</td>\n",
              "      <td>7.510665e+07</td>\n",
              "      <td>7.061042e+07</td>\n",
              "      <td>4.351500e+06</td>\n",
              "    </tr>\n",
              "    <tr>\n",
              "      <th>min</th>\n",
              "      <td>2.001300e+04</td>\n",
              "      <td>1.707300e+04</td>\n",
              "      <td>3.579000e+03</td>\n",
              "      <td>0.000000e+00</td>\n",
              "    </tr>\n",
              "    <tr>\n",
              "      <th>25%</th>\n",
              "      <td>9.927196e+07</td>\n",
              "      <td>6.344808e+07</td>\n",
              "      <td>3.407339e+07</td>\n",
              "      <td>0.000000e+00</td>\n",
              "    </tr>\n",
              "    <tr>\n",
              "      <th>50%</th>\n",
              "      <td>3.055890e+08</td>\n",
              "      <td>1.712659e+08</td>\n",
              "      <td>1.404371e+08</td>\n",
              "      <td>0.000000e+00</td>\n",
              "    </tr>\n",
              "    <tr>\n",
              "      <th>75%</th>\n",
              "      <td>3.622093e+08</td>\n",
              "      <td>2.000382e+08</td>\n",
              "      <td>1.702942e+08</td>\n",
              "      <td>6.109300e+04</td>\n",
              "    </tr>\n",
              "    <tr>\n",
              "      <th>max</th>\n",
              "      <td>4.267281e+08</td>\n",
              "      <td>2.225914e+08</td>\n",
              "      <td>1.918238e+08</td>\n",
              "      <td>2.144171e+07</td>\n",
              "    </tr>\n",
              "  </tbody>\n",
              "</table>\n",
              "</div>"
            ],
            "text/plain": [
              "       total_vaccinations  ...  total_boosters\n",
              "count        3.270000e+02  ...    3.270000e+02\n",
              "mean         2.437773e+08  ...    1.699529e+06\n",
              "std          1.435421e+08  ...    4.351500e+06\n",
              "min          2.001300e+04  ...    0.000000e+00\n",
              "25%          9.927196e+07  ...    0.000000e+00\n",
              "50%          3.055890e+08  ...    0.000000e+00\n",
              "75%          3.622093e+08  ...    6.109300e+04\n",
              "max          4.267281e+08  ...    2.144171e+07\n",
              "\n",
              "[8 rows x 4 columns]"
            ]
          },
          "metadata": {},
          "execution_count": 33
        }
      ]
    },
    {
      "cell_type": "code",
      "metadata": {
        "id": "XeRgi68edquw",
        "colab": {
          "base_uri": "https://localhost:8080/",
          "height": 294
        },
        "outputId": "9d0aab27-f7ac-430c-835c-d52ec4415aea"
      },
      "source": [
        "US[categorical_features].describe()"
      ],
      "execution_count": null,
      "outputs": [
        {
          "output_type": "stream",
          "name": "stderr",
          "text": [
            "/usr/local/lib/python3.7/dist-packages/ipykernel_launcher.py:1: FutureWarning: Treating datetime data as categorical rather than numeric in `.describe` is deprecated and will be removed in a future version of pandas. Specify `datetime_is_numeric=True` to silence this warning and adopt the future behavior now.\n",
            "  \"\"\"Entry point for launching an IPython kernel.\n"
          ]
        },
        {
          "output_type": "execute_result",
          "data": {
            "text/html": [
              "<div>\n",
              "<style scoped>\n",
              "    .dataframe tbody tr th:only-of-type {\n",
              "        vertical-align: middle;\n",
              "    }\n",
              "\n",
              "    .dataframe tbody tr th {\n",
              "        vertical-align: top;\n",
              "    }\n",
              "\n",
              "    .dataframe thead th {\n",
              "        text-align: right;\n",
              "    }\n",
              "</style>\n",
              "<table border=\"1\" class=\"dataframe\">\n",
              "  <thead>\n",
              "    <tr style=\"text-align: right;\">\n",
              "      <th></th>\n",
              "      <th>date</th>\n",
              "      <th>location</th>\n",
              "      <th>vaccine</th>\n",
              "    </tr>\n",
              "  </thead>\n",
              "  <tbody>\n",
              "    <tr>\n",
              "      <th>count</th>\n",
              "      <td>327</td>\n",
              "      <td>327</td>\n",
              "      <td>327</td>\n",
              "    </tr>\n",
              "    <tr>\n",
              "      <th>unique</th>\n",
              "      <td>327</td>\n",
              "      <td>1</td>\n",
              "      <td>3</td>\n",
              "    </tr>\n",
              "    <tr>\n",
              "      <th>top</th>\n",
              "      <td>2021-05-04 00:00:00</td>\n",
              "      <td>United States</td>\n",
              "      <td>Johnson&amp;Johnson, Moderna, Pfizer/BioNTech</td>\n",
              "    </tr>\n",
              "    <tr>\n",
              "      <th>freq</th>\n",
              "      <td>1</td>\n",
              "      <td>327</td>\n",
              "      <td>245</td>\n",
              "    </tr>\n",
              "    <tr>\n",
              "      <th>first</th>\n",
              "      <td>2020-12-13 00:00:00</td>\n",
              "      <td>NaN</td>\n",
              "      <td>NaN</td>\n",
              "    </tr>\n",
              "    <tr>\n",
              "      <th>last</th>\n",
              "      <td>2021-11-04 00:00:00</td>\n",
              "      <td>NaN</td>\n",
              "      <td>NaN</td>\n",
              "    </tr>\n",
              "  </tbody>\n",
              "</table>\n",
              "</div>"
            ],
            "text/plain": [
              "                       date  ...                                    vaccine\n",
              "count                   327  ...                                        327\n",
              "unique                  327  ...                                          3\n",
              "top     2021-05-04 00:00:00  ...  Johnson&Johnson, Moderna, Pfizer/BioNTech\n",
              "freq                      1  ...                                        245\n",
              "first   2020-12-13 00:00:00  ...                                        NaN\n",
              "last    2021-11-04 00:00:00  ...                                        NaN\n",
              "\n",
              "[6 rows x 3 columns]"
            ]
          },
          "metadata": {},
          "execution_count": 34
        }
      ]
    },
    {
      "cell_type": "code",
      "metadata": {
        "id": "PEDdJnGyd4VZ",
        "colab": {
          "base_uri": "https://localhost:8080/",
          "height": 309
        },
        "outputId": "e77cdd48-c322-4c21-9995-afd8905faa7e"
      },
      "source": [
        "sns.barplot(x='total_vaccinations', y='people_fully_vaccinated', data = US[numerical_features] )\n"
      ],
      "execution_count": null,
      "outputs": [
        {
          "output_type": "execute_result",
          "data": {
            "text/plain": [
              "<matplotlib.axes._subplots.AxesSubplot at 0x7f7687434890>"
            ]
          },
          "metadata": {},
          "execution_count": 35
        },
        {
          "output_type": "display_data",
          "data": {
            "image/png": "[encoded data removed]",
            "text/plain": [
              "<Figure size 432x288 with 1 Axes>"
            ]
          },
          "metadata": {
            "needs_background": "light"
          }
        }
      ]
    },
    {
      "cell_type": "code",
      "metadata": {
        "id": "s8eQex_Dd4Xp",
        "colab": {
          "base_uri": "https://localhost:8080/"
        },
        "outputId": "b937fd6f-7a44-4786-8327-6c237c7ec0cf"
      },
      "source": [
        "US.isnull().count()"
      ],
      "execution_count": null,
      "outputs": [
        {
          "output_type": "execute_result",
          "data": {
            "text/plain": [
              "date                       327\n",
              "location                   327\n",
              "total_vaccinations         327\n",
              "people_vaccinated          327\n",
              "people_fully_vaccinated    327\n",
              "total_boosters             327\n",
              "vaccine                    327\n",
              "dtype: int64"
            ]
          },
          "metadata": {},
          "execution_count": 36
        }
      ]
    },
    {
      "cell_type": "code",
      "metadata": {
        "id": "TZ7BkvYrd4Z2",
        "colab": {
          "base_uri": "https://localhost:8080/"
        },
        "outputId": "ffd698d4-b16f-4353-b30f-b597259b8f4b"
      },
      "source": [
        "US.isnull().values.any()\n"
      ],
      "execution_count": null,
      "outputs": [
        {
          "output_type": "execute_result",
          "data": {
            "text/plain": [
              "False"
            ]
          },
          "metadata": {},
          "execution_count": 37
        }
      ]
    },
    {
      "cell_type": "code",
      "metadata": {
        "id": "oiZ9u2-yd4cA",
        "colab": {
          "base_uri": "https://localhost:8080/",
          "height": 90
        },
        "outputId": "7fe411c5-6b0e-477f-bbfb-3d8d23d64b06"
      },
      "source": [
        "display(US.dtypes.value_counts())\n"
      ],
      "execution_count": null,
      "outputs": [
        {
          "output_type": "display_data",
          "data": {
            "text/plain": [
              "int64             4\n",
              "object            2\n",
              "datetime64[ns]    1\n",
              "dtype: int64"
            ]
          },
          "metadata": {}
        }
      ]
    },
    {
      "cell_type": "code",
      "metadata": {
        "id": "bINt1Uo2d4fX",
        "colab": {
          "base_uri": "https://localhost:8080/"
        },
        "outputId": "0244003e-ccba-492c-d190-0be5e7713e7e"
      },
      "source": [
        "US[numerical_features].isnull().sum()\n"
      ],
      "execution_count": null,
      "outputs": [
        {
          "output_type": "execute_result",
          "data": {
            "text/plain": [
              "total_vaccinations         0\n",
              "people_vaccinated          0\n",
              "people_fully_vaccinated    0\n",
              "total_boosters             0\n",
              "dtype: int64"
            ]
          },
          "metadata": {},
          "execution_count": 39
        }
      ]
    },
    {
      "cell_type": "code",
      "metadata": {
        "id": "rp7MuYGbeYKP",
        "colab": {
          "base_uri": "https://localhost:8080/",
          "height": 298
        },
        "outputId": "c303d24e-1a6d-4303-ebe3-3b08d094f756"
      },
      "source": [
        "import seaborn as sns\n",
        "sns.boxplot(x= US[numerical_features]['total_vaccinations'])"
      ],
      "execution_count": null,
      "outputs": [
        {
          "output_type": "execute_result",
          "data": {
            "text/plain": [
              "<matplotlib.axes._subplots.AxesSubplot at 0x7f768693d490>"
            ]
          },
          "metadata": {},
          "execution_count": 40
        },
        {
          "output_type": "display_data",
          "data": {
            "image/png": "[encoded data removed]",
            "text/plain": [
              "<Figure size 432x288 with 1 Axes>"
            ]
          },
          "metadata": {
            "needs_background": "light"
          }
        }
      ]
    },
    {
      "cell_type": "code",
      "metadata": {
        "id": "B-tj5u9_eYR4",
        "colab": {
          "base_uri": "https://localhost:8080/",
          "height": 298
        },
        "outputId": "b4790a06-0740-4786-f20a-1db7605bb886"
      },
      "source": [
        "sns.boxplot(x= US[numerical_features]['people_fully_vaccinated'])"
      ],
      "execution_count": null,
      "outputs": [
        {
          "output_type": "execute_result",
          "data": {
            "text/plain": [
              "<matplotlib.axes._subplots.AxesSubplot at 0x7f76868f01d0>"
            ]
          },
          "metadata": {},
          "execution_count": 41
        },
        {
          "output_type": "display_data",
          "data": {
            "image/png": "[encoded data removed]",
            "text/plain": [
              "<Figure size 432x288 with 1 Axes>"
            ]
          },
          "metadata": {
            "needs_background": "light"
          }
        }
      ]
    }
  ]
}